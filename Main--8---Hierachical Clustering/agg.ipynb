{
 "cells": [
  {
   "cell_type": "code",
   "execution_count": 1,
   "id": "c334b096",
   "metadata": {},
   "outputs": [],
   "source": [
    "from sklearn.cluster import AgglomerativeClustering\n",
    "import matplotlib.pyplot as plt\n",
    "from scipy.cluster.hierarchy import linkage, dendrogram\n",
    "from sklearn.datasets import make_blobs"
   ]
  },
  {
   "cell_type": "code",
   "execution_count": 11,
   "id": "5e89eefc",
   "metadata": {},
   "outputs": [
    {
     "data": {
      "text/plain": [
       "array([[ -5.01141435,  -6.82389468],\n",
       "       [ -3.89028485,  -7.63654875],\n",
       "       [ -6.02432768,  -6.05367292],\n",
       "       [  3.28084889,   2.51143478],\n",
       "       [ -2.47534392,  -6.11460279],\n",
       "       [ -4.87595727,  -6.47477147],\n",
       "       [  5.94913298,   2.2648143 ],\n",
       "       [  4.21372795,   1.31369804],\n",
       "       [  3.49233038,   1.71372314],\n",
       "       [ -4.04673049,  -8.39107221],\n",
       "       [  4.01494272,   1.53189174],\n",
       "       [  3.89927053,   2.73196677],\n",
       "       [ -5.42416396,  -8.21817526],\n",
       "       [ -4.26978575,  -5.868397  ],\n",
       "       [ -3.20740524,  -7.06984203],\n",
       "       [ -4.53797535,  -7.72270527],\n",
       "       [ -4.89750453,  -7.2536521 ],\n",
       "       [ -7.1610537 ,  -5.46644535],\n",
       "       [ -8.62534733,  -2.75182253],\n",
       "       [ -5.04685629,  -5.88886623],\n",
       "       [ -8.97156471,  -2.74055554],\n",
       "       [  4.38194628,   2.18602372],\n",
       "       [ -5.85216997,  -9.26814153],\n",
       "       [  3.65295763,   1.12399954],\n",
       "       [  3.42339917,   0.97023545],\n",
       "       [  4.03204603,   2.14732569],\n",
       "       [ -9.53248139,  -4.81010614],\n",
       "       [ -8.35088181,  -4.50068628],\n",
       "       [ -7.44854316,  -5.51775861],\n",
       "       [  4.15313339,   2.34881492],\n",
       "       [ -9.19433977,  -4.59371333],\n",
       "       [  1.72208189,   2.16263315],\n",
       "       [ -9.39861946,  -3.9470648 ],\n",
       "       [ -7.82350988,  -3.68304672],\n",
       "       [ -7.9697605 ,  -3.37390157],\n",
       "       [  2.67377434,   2.6967638 ],\n",
       "       [ -8.74992699,  -4.40466451],\n",
       "       [  4.08606548,   1.27902677],\n",
       "       [ -7.55945318,  -2.79271292],\n",
       "       [  3.4315308 ,   0.76881994],\n",
       "       [  3.71938221,   2.44570086],\n",
       "       [  3.42797402,   1.75334913],\n",
       "       [ -4.15898627,  -9.25021725],\n",
       "       [  2.64301585,  -0.30571941],\n",
       "       [ -8.82706429,  -5.2824166 ],\n",
       "       [ -6.69867135,  -7.26299309],\n",
       "       [ -4.30853653,  -8.28536943],\n",
       "       [  2.64050348,   2.39861715],\n",
       "       [ -7.76383947,  -4.40976174],\n",
       "       [ -6.73800835,  -5.45185053],\n",
       "       [ -3.77473197,  -7.26978166],\n",
       "       [ -7.28081041,  -4.34444695],\n",
       "       [ -5.30944763,  -8.36588921],\n",
       "       [ -4.18002491,  -6.84802731],\n",
       "       [  2.15015221,   4.18494673],\n",
       "       [ -7.86677716,  -4.34059644],\n",
       "       [ -5.48892671,  -7.38272884],\n",
       "       [ -8.03900663,  -3.46201811],\n",
       "       [ -2.82977222,  -7.06768551],\n",
       "       [ -7.43055655,  -5.64502435],\n",
       "       [ -4.12982476,  -7.53170685],\n",
       "       [ -4.7664874 ,  -7.3117134 ],\n",
       "       [ -4.63915957,  -5.46851744],\n",
       "       [ -9.02830594,  -4.10123566],\n",
       "       [  5.2681717 ,   0.71596519],\n",
       "       [ -5.81154245,  -7.77948914],\n",
       "       [  5.4385134 ,   2.01472987],\n",
       "       [ -6.22376232,  -4.48672413],\n",
       "       [  5.73870392,   0.4936757 ],\n",
       "       [  3.10873115,   1.30530811],\n",
       "       [ -7.08525379,  -2.80223348],\n",
       "       [ -8.75485061,  -4.48788733],\n",
       "       [ -3.51100394,  -6.85201327],\n",
       "       [ -8.8015973 ,  -4.64110534],\n",
       "       [ -5.84401352,  -7.28274401],\n",
       "       [ -4.89243153,  -5.42369034],\n",
       "       [  4.17327356,   1.69335764],\n",
       "       [  4.5416099 ,  -1.69126775],\n",
       "       [  5.16654896,   3.41385386],\n",
       "       [ -3.94115558,  -6.4742423 ],\n",
       "       [  4.63517195,   0.66614935],\n",
       "       [  4.29106738,   0.68097715],\n",
       "       [ -3.28553648,  -6.45804054],\n",
       "       [ -8.46310684,  -4.30464333],\n",
       "       [-10.24229693,  -3.67409519],\n",
       "       [  4.05178246,   1.21821798],\n",
       "       [ -7.19226593,  -5.71536712],\n",
       "       [  3.4074959 ,   2.76079365],\n",
       "       [ -4.05533936,  -7.38943312],\n",
       "       [ -7.49729579,  -4.60180757],\n",
       "       [  3.9128768 ,   1.17134636],\n",
       "       [ -8.05167089,  -5.13151161],\n",
       "       [ -4.06032698,  -8.36590455],\n",
       "       [ -7.72016833,  -4.03335906],\n",
       "       [ -2.73892722,  -9.10496575],\n",
       "       [ -5.53557581,  -7.42083148],\n",
       "       [ -8.99398128,  -2.76876735],\n",
       "       [ -5.64062509,  -8.02794809],\n",
       "       [ -8.82570028,  -5.7244694 ],\n",
       "       [  4.39082937,   0.78570742]])"
      ]
     },
     "execution_count": 11,
     "metadata": {},
     "output_type": "execute_result"
    }
   ],
   "source": [
    "##see the dataset \n",
    "X"
   ]
  },
  {
   "cell_type": "code",
   "execution_count": 8,
   "id": "65b534e2",
   "metadata": {},
   "outputs": [],
   "source": [
    "#create systhetic data\n",
    "X , _ = make_blobs(n_samples=100, centers=3,cluster_std=1.0)"
   ]
  },
  {
   "cell_type": "code",
   "execution_count": 9,
   "id": "784a7d4e",
   "metadata": {},
   "outputs": [],
   "source": [
    "model = AgglomerativeClustering(n_clusters=3,linkage=\"ward\")\n",
    "labels = model.fit_predict(X)"
   ]
  },
  {
   "cell_type": "code",
   "execution_count": 10,
   "id": "a88ebacf",
   "metadata": {},
   "outputs": [
    {
     "data": {
      "image/png": "[encoded data removed]",
      "text/plain": [
       "<Figure size 640x480 with 1 Axes>"
      ]
     },
     "metadata": {},
     "output_type": "display_data"
    }
   ],
   "source": [
    "#dendogram\n",
    "linked = linkage(X,method=\"ward\")\n",
    "plt.Figure(figsize=(10,6))\n",
    "dendrogram(linked)\n",
    "plt.xticks(rotation=90)\n",
    "plt.show()"
   ]
  },
  {
   "cell_type": "code",
   "execution_count": null,
   "id": "b0f9bf59",
   "metadata": {},
   "outputs": [],
   "source": [
    "\n",
    "##"
   ]
  }
 ],
 "metadata": {
  "kernelspec": {
   "display_name": "Python 3",
   "language": "python",
   "name": "python3"
  },
  "language_info": {
   "codemirror_mode": {
    "name": "ipython",
    "version": 3
   },
   "file_extension": ".py",
   "mimetype": "text/x-python",
   "name": "python",
   "nbconvert_exporter": "python",
   "pygments_lexer": "ipython3",
   "version": "3.11.9"
  }
 },
 "nbformat": 4,
 "nbformat_minor": 5
}
